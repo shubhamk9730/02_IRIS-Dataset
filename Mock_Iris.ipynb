{
 "cells": [
  {
   "cell_type": "markdown",
   "id": "b6b54435",
   "metadata": {},
   "source": [
    "# Iris Dataset"
   ]
  },
  {
   "cell_type": "markdown",
   "id": "9b5efb2f",
   "metadata": {},
   "source": [
    "# Problem Statement"
   ]
  },
  {
   "cell_type": "markdown",
   "id": "74fcceff",
   "metadata": {},
   "source": [
    "Predict type of species for Iris flower."
   ]
  },
  {
   "cell_type": "code",
   "execution_count": 30,
   "id": "b8950f7f",
   "metadata": {},
   "outputs": [],
   "source": [
    "import numpy as np\n",
    "import pandas as pd\n",
    "\n",
    "from sklearn.datasets import load_iris"
   ]
  },
  {
   "cell_type": "markdown",
   "id": "664a32ff",
   "metadata": {},
   "source": [
    "# Data Gathering"
   ]
  },
  {
   "cell_type": "code",
   "execution_count": 18,
   "id": "c4c55450",
   "metadata": {},
   "outputs": [],
   "source": [
    "iris = load_iris()"
   ]
  },
  {
   "cell_type": "code",
   "execution_count": 19,
   "id": "91fc89cb",
   "metadata": {},
   "outputs": [
    {
     "data": {
      "text/plain": [
       "['DESCR',\n",
       " 'data',\n",
       " 'feature_names',\n",
       " 'filename',\n",
       " 'frame',\n",
       " 'target',\n",
       " 'target_names']"
      ]
     },
     "execution_count": 19,
     "metadata": {},
     "output_type": "execute_result"
    }
   ],
   "source": [
    "dir(iris)"
   ]
  },
  {
   "cell_type": "code",
   "execution_count": 24,
   "id": "d2b350cb",
   "metadata": {},
   "outputs": [
    {
     "data": {
      "text/html": [
       "<div>\n",
       "<style scoped>\n",
       "    .dataframe tbody tr th:only-of-type {\n",
       "        vertical-align: middle;\n",
       "    }\n",
       "\n",
       "    .dataframe tbody tr th {\n",
       "        vertical-align: top;\n",
       "    }\n",
       "\n",
       "    .dataframe thead th {\n",
       "        text-align: right;\n",
       "    }\n",
       "</style>\n",
       "<table border=\"1\" class=\"dataframe\">\n",
       "  <thead>\n",
       "    <tr style=\"text-align: right;\">\n",
       "      <th></th>\n",
       "      <th>sepal length (cm)</th>\n",
       "      <th>sepal width (cm)</th>\n",
       "      <th>petal length (cm)</th>\n",
       "      <th>petal width (cm)</th>\n",
       "    </tr>\n",
       "  </thead>\n",
       "  <tbody>\n",
       "    <tr>\n",
       "      <th>0</th>\n",
       "      <td>5.1</td>\n",
       "      <td>3.5</td>\n",
       "      <td>1.4</td>\n",
       "      <td>0.2</td>\n",
       "    </tr>\n",
       "    <tr>\n",
       "      <th>1</th>\n",
       "      <td>4.9</td>\n",
       "      <td>3.0</td>\n",
       "      <td>1.4</td>\n",
       "      <td>0.2</td>\n",
       "    </tr>\n",
       "  </tbody>\n",
       "</table>\n",
       "</div>"
      ],
      "text/plain": [
       "   sepal length (cm)  sepal width (cm)  petal length (cm)  petal width (cm)\n",
       "0                5.1               3.5                1.4               0.2\n",
       "1                4.9               3.0                1.4               0.2"
      ]
     },
     "execution_count": 24,
     "metadata": {},
     "output_type": "execute_result"
    }
   ],
   "source": [
    "df = pd.DataFrame(iris.data, columns = iris.feature_names)\n",
    "df.head(2)"
   ]
  },
  {
   "cell_type": "code",
   "execution_count": 29,
   "id": "bf1b2c5a",
   "metadata": {},
   "outputs": [
    {
     "data": {
      "text/html": [
       "<div>\n",
       "<style scoped>\n",
       "    .dataframe tbody tr th:only-of-type {\n",
       "        vertical-align: middle;\n",
       "    }\n",
       "\n",
       "    .dataframe tbody tr th {\n",
       "        vertical-align: top;\n",
       "    }\n",
       "\n",
       "    .dataframe thead th {\n",
       "        text-align: right;\n",
       "    }\n",
       "</style>\n",
       "<table border=\"1\" class=\"dataframe\">\n",
       "  <thead>\n",
       "    <tr style=\"text-align: right;\">\n",
       "      <th></th>\n",
       "      <th>sepal length (cm)</th>\n",
       "      <th>sepal width (cm)</th>\n",
       "      <th>petal length (cm)</th>\n",
       "      <th>petal width (cm)</th>\n",
       "      <th>Target</th>\n",
       "    </tr>\n",
       "  </thead>\n",
       "  <tbody>\n",
       "    <tr>\n",
       "      <th>0</th>\n",
       "      <td>5.1</td>\n",
       "      <td>3.5</td>\n",
       "      <td>1.4</td>\n",
       "      <td>0.2</td>\n",
       "      <td>0</td>\n",
       "    </tr>\n",
       "    <tr>\n",
       "      <th>1</th>\n",
       "      <td>4.9</td>\n",
       "      <td>3.0</td>\n",
       "      <td>1.4</td>\n",
       "      <td>0.2</td>\n",
       "      <td>0</td>\n",
       "    </tr>\n",
       "  </tbody>\n",
       "</table>\n",
       "</div>"
      ],
      "text/plain": [
       "   sepal length (cm)  sepal width (cm)  petal length (cm)  petal width (cm)  \\\n",
       "0                5.1               3.5                1.4               0.2   \n",
       "1                4.9               3.0                1.4               0.2   \n",
       "\n",
       "   Target  \n",
       "0       0  \n",
       "1       0  "
      ]
     },
     "execution_count": 29,
     "metadata": {},
     "output_type": "execute_result"
    }
   ],
   "source": [
    "df['Target'] = iris.target\n",
    "df.head(2)"
   ]
  },
  {
   "cell_type": "markdown",
   "id": "48f39537",
   "metadata": {},
   "source": [
    "# EDA"
   ]
  },
  {
   "cell_type": "code",
   "execution_count": 31,
   "id": "cac7cf3e",
   "metadata": {},
   "outputs": [
    {
     "name": "stdout",
     "output_type": "stream",
     "text": [
      "<class 'pandas.core.frame.DataFrame'>\n",
      "RangeIndex: 150 entries, 0 to 149\n",
      "Data columns (total 5 columns):\n",
      " #   Column             Non-Null Count  Dtype  \n",
      "---  ------             --------------  -----  \n",
      " 0   sepal length (cm)  150 non-null    float64\n",
      " 1   sepal width (cm)   150 non-null    float64\n",
      " 2   petal length (cm)  150 non-null    float64\n",
      " 3   petal width (cm)   150 non-null    float64\n",
      " 4   Target             150 non-null    int32  \n",
      "dtypes: float64(4), int32(1)\n",
      "memory usage: 5.4 KB\n"
     ]
    }
   ],
   "source": [
    "df.info()"
   ]
  },
  {
   "cell_type": "markdown",
   "id": "517fbafb",
   "metadata": {},
   "source": [
    "# Feture Selection"
   ]
  },
  {
   "cell_type": "code",
   "execution_count": 32,
   "id": "9816b3a5",
   "metadata": {},
   "outputs": [
    {
     "data": {
      "text/html": [
       "<div>\n",
       "<style scoped>\n",
       "    .dataframe tbody tr th:only-of-type {\n",
       "        vertical-align: middle;\n",
       "    }\n",
       "\n",
       "    .dataframe tbody tr th {\n",
       "        vertical-align: top;\n",
       "    }\n",
       "\n",
       "    .dataframe thead th {\n",
       "        text-align: right;\n",
       "    }\n",
       "</style>\n",
       "<table border=\"1\" class=\"dataframe\">\n",
       "  <thead>\n",
       "    <tr style=\"text-align: right;\">\n",
       "      <th></th>\n",
       "      <th>sepal length (cm)</th>\n",
       "      <th>sepal width (cm)</th>\n",
       "      <th>petal length (cm)</th>\n",
       "      <th>petal width (cm)</th>\n",
       "      <th>Target</th>\n",
       "    </tr>\n",
       "  </thead>\n",
       "  <tbody>\n",
       "    <tr>\n",
       "      <th>sepal length (cm)</th>\n",
       "      <td>1.000000</td>\n",
       "      <td>-0.117570</td>\n",
       "      <td>0.871754</td>\n",
       "      <td>0.817941</td>\n",
       "      <td>0.782561</td>\n",
       "    </tr>\n",
       "    <tr>\n",
       "      <th>sepal width (cm)</th>\n",
       "      <td>-0.117570</td>\n",
       "      <td>1.000000</td>\n",
       "      <td>-0.428440</td>\n",
       "      <td>-0.366126</td>\n",
       "      <td>-0.426658</td>\n",
       "    </tr>\n",
       "    <tr>\n",
       "      <th>petal length (cm)</th>\n",
       "      <td>0.871754</td>\n",
       "      <td>-0.428440</td>\n",
       "      <td>1.000000</td>\n",
       "      <td>0.962865</td>\n",
       "      <td>0.949035</td>\n",
       "    </tr>\n",
       "    <tr>\n",
       "      <th>petal width (cm)</th>\n",
       "      <td>0.817941</td>\n",
       "      <td>-0.366126</td>\n",
       "      <td>0.962865</td>\n",
       "      <td>1.000000</td>\n",
       "      <td>0.956547</td>\n",
       "    </tr>\n",
       "    <tr>\n",
       "      <th>Target</th>\n",
       "      <td>0.782561</td>\n",
       "      <td>-0.426658</td>\n",
       "      <td>0.949035</td>\n",
       "      <td>0.956547</td>\n",
       "      <td>1.000000</td>\n",
       "    </tr>\n",
       "  </tbody>\n",
       "</table>\n",
       "</div>"
      ],
      "text/plain": [
       "                   sepal length (cm)  sepal width (cm)  petal length (cm)  \\\n",
       "sepal length (cm)           1.000000         -0.117570           0.871754   \n",
       "sepal width (cm)           -0.117570          1.000000          -0.428440   \n",
       "petal length (cm)           0.871754         -0.428440           1.000000   \n",
       "petal width (cm)            0.817941         -0.366126           0.962865   \n",
       "Target                      0.782561         -0.426658           0.949035   \n",
       "\n",
       "                   petal width (cm)    Target  \n",
       "sepal length (cm)          0.817941  0.782561  \n",
       "sepal width (cm)          -0.366126 -0.426658  \n",
       "petal length (cm)          0.962865  0.949035  \n",
       "petal width (cm)           1.000000  0.956547  \n",
       "Target                     0.956547  1.000000  "
      ]
     },
     "execution_count": 32,
     "metadata": {},
     "output_type": "execute_result"
    }
   ],
   "source": [
    "df.corr()"
   ]
  },
  {
   "cell_type": "code",
   "execution_count": 33,
   "id": "a45103a3",
   "metadata": {},
   "outputs": [],
   "source": [
    "import seaborn as sns\n",
    "import matplotlib.pyplot as plt"
   ]
  },
  {
   "cell_type": "code",
   "execution_count": 37,
   "id": "55350001",
   "metadata": {},
   "outputs": [
    {
     "data": {
      "text/plain": [
       "<AxesSubplot:>"
      ]
     },
     "execution_count": 37,
     "metadata": {},
     "output_type": "execute_result"
    },
    {
     "data": {
      "image/png": "[encoded data removed]",
      "text/plain": [
       "<Figure size 432x288 with 2 Axes>"
      ]
     },
     "metadata": {
      "needs_background": "light"
     },
     "output_type": "display_data"
    }
   ],
   "source": [
    "sns.heatmap(df.corr(), annot=True)"
   ]
  },
  {
   "cell_type": "code",
   "execution_count": 44,
   "id": "c5c91f1c",
   "metadata": {},
   "outputs": [],
   "source": [
    "# plt.figure(figsize=(20,50))\n",
    "# plt.boxplot(df['sepal width (cm)'])"
   ]
  },
  {
   "cell_type": "markdown",
   "id": "c60568c1",
   "metadata": {},
   "source": [
    "# Model Training"
   ]
  },
  {
   "cell_type": "code",
   "execution_count": 46,
   "id": "c40dc988",
   "metadata": {},
   "outputs": [],
   "source": [
    "from sklearn.linear_model import LinearRegression"
   ]
  },
  {
   "cell_type": "code",
   "execution_count": 72,
   "id": "dbb2928d",
   "metadata": {},
   "outputs": [],
   "source": [
    "LR = LinearRegression()"
   ]
  },
  {
   "cell_type": "code",
   "execution_count": 53,
   "id": "d6844867",
   "metadata": {},
   "outputs": [],
   "source": [
    "from sklearn.model_selection import train_test_split"
   ]
  },
  {
   "cell_type": "code",
   "execution_count": 55,
   "id": "487f2eb3",
   "metadata": {},
   "outputs": [
    {
     "data": {
      "text/html": [
       "<div>\n",
       "<style scoped>\n",
       "    .dataframe tbody tr th:only-of-type {\n",
       "        vertical-align: middle;\n",
       "    }\n",
       "\n",
       "    .dataframe tbody tr th {\n",
       "        vertical-align: top;\n",
       "    }\n",
       "\n",
       "    .dataframe thead th {\n",
       "        text-align: right;\n",
       "    }\n",
       "</style>\n",
       "<table border=\"1\" class=\"dataframe\">\n",
       "  <thead>\n",
       "    <tr style=\"text-align: right;\">\n",
       "      <th></th>\n",
       "      <th>sepal length (cm)</th>\n",
       "      <th>sepal width (cm)</th>\n",
       "      <th>petal length (cm)</th>\n",
       "      <th>petal width (cm)</th>\n",
       "      <th>Target</th>\n",
       "    </tr>\n",
       "  </thead>\n",
       "  <tbody>\n",
       "    <tr>\n",
       "      <th>0</th>\n",
       "      <td>5.1</td>\n",
       "      <td>3.5</td>\n",
       "      <td>1.4</td>\n",
       "      <td>0.2</td>\n",
       "      <td>0</td>\n",
       "    </tr>\n",
       "    <tr>\n",
       "      <th>1</th>\n",
       "      <td>4.9</td>\n",
       "      <td>3.0</td>\n",
       "      <td>1.4</td>\n",
       "      <td>0.2</td>\n",
       "      <td>0</td>\n",
       "    </tr>\n",
       "  </tbody>\n",
       "</table>\n",
       "</div>"
      ],
      "text/plain": [
       "   sepal length (cm)  sepal width (cm)  petal length (cm)  petal width (cm)  \\\n",
       "0                5.1               3.5                1.4               0.2   \n",
       "1                4.9               3.0                1.4               0.2   \n",
       "\n",
       "   Target  \n",
       "0       0  \n",
       "1       0  "
      ]
     },
     "execution_count": 55,
     "metadata": {},
     "output_type": "execute_result"
    }
   ],
   "source": [
    "df.head(2)"
   ]
  },
  {
   "cell_type": "code",
   "execution_count": 66,
   "id": "7fc71a65",
   "metadata": {},
   "outputs": [],
   "source": [
    "x= df.drop('Target',axis=1)\n",
    "y= df['Target']"
   ]
  },
  {
   "cell_type": "code",
   "execution_count": 73,
   "id": "f9f495bf",
   "metadata": {},
   "outputs": [],
   "source": [
    "x_train,x_test, y_train,y_test = train_test_split(x,y, test_size =0.25, random_state= 12)"
   ]
  },
  {
   "cell_type": "code",
   "execution_count": 74,
   "id": "81679a98",
   "metadata": {},
   "outputs": [
    {
     "data": {
      "text/plain": [
       "LinearRegression()"
      ]
     },
     "execution_count": 74,
     "metadata": {},
     "output_type": "execute_result"
    }
   ],
   "source": [
    "LR.fit(x_train, y_train)"
   ]
  },
  {
   "cell_type": "markdown",
   "id": "571c225e",
   "metadata": {},
   "source": [
    "# Model Evaluate"
   ]
  },
  {
   "cell_type": "markdown",
   "id": "073bd36e",
   "metadata": {},
   "source": [
    "## Linear Regression"
   ]
  },
  {
   "cell_type": "markdown",
   "id": "01ec032b",
   "metadata": {},
   "source": [
    "Training Data"
   ]
  },
  {
   "cell_type": "code",
   "execution_count": 75,
   "id": "758b6d07",
   "metadata": {},
   "outputs": [],
   "source": [
    "y_pred_train_Li = LR.predict(x_train)"
   ]
  },
  {
   "cell_type": "code",
   "execution_count": 79,
   "id": "0e765c9b",
   "metadata": {},
   "outputs": [],
   "source": [
    "from sklearn.metrics import mean_squared_error as mse, mean_absolute_error as mae, r2_score"
   ]
  },
  {
   "cell_type": "code",
   "execution_count": 83,
   "id": "b0cd7855",
   "metadata": {},
   "outputs": [
    {
     "name": "stdout",
     "output_type": "stream",
     "text": [
      "MSE:  0.047596781936406436\n",
      "************************************************************\n",
      "RMSE:  0.21816686718291217\n",
      "************************************************************\n",
      "MAE:  0.16838651453169157\n",
      "************************************************************\n",
      "r2_score:  0.93\n"
     ]
    }
   ],
   "source": [
    "MSE = mse(y_train, y_pred_train_Li)\n",
    "print('MSE: ', MSE)\n",
    "print('**'*30)\n",
    "RMSE = np.sqrt(MSE)\n",
    "print('RMSE: ', RMSE)\n",
    "print('**'*30)\n",
    "MAE = mae(y_train, y_pred_train_Li)\n",
    "print('MAE: ', MAE)\n",
    "print('**'*30)\n",
    "r2 = r2_score(y_train, y_pred_train_Li)\n",
    "print('r2_score: ', r2.round(2))"
   ]
  },
  {
   "cell_type": "markdown",
   "id": "f77bffe7",
   "metadata": {},
   "source": [
    "Testing "
   ]
  },
  {
   "cell_type": "code",
   "execution_count": 86,
   "id": "e2caf943",
   "metadata": {},
   "outputs": [],
   "source": [
    "y_pred_test_Li = LR.predict(x_test)"
   ]
  },
  {
   "cell_type": "code",
   "execution_count": 88,
   "id": "0e8cefd3",
   "metadata": {},
   "outputs": [
    {
     "name": "stdout",
     "output_type": "stream",
     "text": [
      "MSE:  0.04329107978709588\n",
      "************************************************************\n",
      "RMSE:  0.20806508545908386\n",
      "************************************************************\n",
      "MAE:  0.15485752775905287\n",
      "************************************************************\n",
      "r2_score:  0.94\n"
     ]
    }
   ],
   "source": [
    "MSE = mse(y_test, y_pred_test_Li)\n",
    "print('MSE: ', MSE)\n",
    "print('**'*30)\n",
    "RMSE = np.sqrt(MSE)\n",
    "print('RMSE: ', RMSE)\n",
    "print('**'*30)\n",
    "MAE = mae(y_test, y_pred_test_Li)\n",
    "print('MAE: ', MAE)\n",
    "print('**'*30)\n",
    "r2 = r2_score(y_test, y_pred_test_Li)\n",
    "print('r2_score: ', r2.round(2))"
   ]
  },
  {
   "cell_type": "markdown",
   "id": "7bbebcb2",
   "metadata": {},
   "source": [
    "## Logsitic Regression"
   ]
  },
  {
   "cell_type": "code",
   "execution_count": 93,
   "id": "b593206a",
   "metadata": {},
   "outputs": [
    {
     "data": {
      "text/plain": [
       "0    50\n",
       "1    50\n",
       "2    50\n",
       "Name: Target, dtype: int64"
      ]
     },
     "execution_count": 93,
     "metadata": {},
     "output_type": "execute_result"
    }
   ],
   "source": [
    "df['Target'].value_counts()"
   ]
  },
  {
   "cell_type": "code",
   "execution_count": 111,
   "id": "186bf3f9",
   "metadata": {},
   "outputs": [],
   "source": [
    "x_train,x_test, y_train,y_test = train_test_split(x,y, test_size =0.25, random_state= 12, stratify=y)"
   ]
  },
  {
   "cell_type": "code",
   "execution_count": 112,
   "id": "c11c4aa8",
   "metadata": {},
   "outputs": [],
   "source": [
    "from sklearn.linear_model import LogisticRegression"
   ]
  },
  {
   "cell_type": "code",
   "execution_count": 117,
   "id": "8ed18048",
   "metadata": {},
   "outputs": [],
   "source": [
    "Logis = LogisticRegression(multi_class='ovr')"
   ]
  },
  {
   "cell_type": "code",
   "execution_count": 119,
   "id": "a952307d",
   "metadata": {},
   "outputs": [
    {
     "data": {
      "text/plain": [
       "LogisticRegression(multi_class='ovr')"
      ]
     },
     "execution_count": 119,
     "metadata": {},
     "output_type": "execute_result"
    }
   ],
   "source": [
    "Logis.fit(x_train,y_train)"
   ]
  },
  {
   "cell_type": "code",
   "execution_count": 120,
   "id": "702c56b8",
   "metadata": {},
   "outputs": [],
   "source": [
    "from sklearn.metrics import confusion_matrix, multilabel_confusion_matrix, accuracy_score, classification_report, plot_confusion_matrix"
   ]
  },
  {
   "cell_type": "markdown",
   "id": "33db916a",
   "metadata": {},
   "source": [
    "Training Data"
   ]
  },
  {
   "cell_type": "code",
   "execution_count": 121,
   "id": "e31d2daa",
   "metadata": {},
   "outputs": [],
   "source": [
    "y_pred_train_Lo = Logis.predict(x_train)"
   ]
  },
  {
   "cell_type": "code",
   "execution_count": 124,
   "id": "c017cbf0",
   "metadata": {},
   "outputs": [
    {
     "name": "stdout",
     "output_type": "stream",
     "text": [
      "[[38  0  0]\n",
      " [ 0 36  1]\n",
      " [ 0  1 36]]\n",
      "****************************************\n",
      "[[[74  0]\n",
      "  [ 0 38]]\n",
      "\n",
      " [[74  1]\n",
      "  [ 1 36]]\n",
      "\n",
      " [[74  1]\n",
      "  [ 1 36]]]\n",
      "****************************************\n",
      "0.9821428571428571\n",
      "****************************************\n",
      "              precision    recall  f1-score   support\n",
      "\n",
      "           0       1.00      1.00      1.00        38\n",
      "           1       0.97      0.97      0.97        37\n",
      "           2       0.97      0.97      0.97        37\n",
      "\n",
      "    accuracy                           0.98       112\n",
      "   macro avg       0.98      0.98      0.98       112\n",
      "weighted avg       0.98      0.98      0.98       112\n",
      "\n"
     ]
    }
   ],
   "source": [
    "cnf = confusion_matrix(y_train, y_pred_train_Lo)\n",
    "print(cnf)\n",
    "print('**'*20)\n",
    "\n",
    "mul_cnf = multilabel_confusion_matrix(y_train, y_pred_train_Lo)\n",
    "print(mul_cnf)\n",
    "print('**'*20)\n",
    "\n",
    "acc = accuracy_score(y_train, y_pred_train_Lo)\n",
    "print(acc)\n",
    "print('**'*20)\n",
    "\n",
    "clf_rep = classification_report(y_train, y_pred_train_Lo)\n",
    "print(clf_rep)"
   ]
  },
  {
   "cell_type": "code",
   "execution_count": 126,
   "id": "6a1bc4f0",
   "metadata": {},
   "outputs": [
    {
     "data": {
      "text/plain": [
       "0.9821428571428571"
      ]
     },
     "execution_count": 126,
     "metadata": {},
     "output_type": "execute_result"
    }
   ],
   "source": [
    "Logis.score(x_train,y_train)"
   ]
  },
  {
   "cell_type": "code",
   "execution_count": 127,
   "id": "a5a5d749",
   "metadata": {},
   "outputs": [],
   "source": [
    "##Linear 0.93, Logsitic 0.98 >> Training"
   ]
  },
  {
   "cell_type": "markdown",
   "id": "522857db",
   "metadata": {},
   "source": [
    "Testing"
   ]
  },
  {
   "cell_type": "code",
   "execution_count": 130,
   "id": "2dc3e649",
   "metadata": {
    "scrolled": false
   },
   "outputs": [
    {
     "name": "stdout",
     "output_type": "stream",
     "text": [
      "[[12  0  0]\n",
      " [ 0  9  4]\n",
      " [ 0  1 12]]\n",
      "****************************************\n",
      "[[[26  0]\n",
      "  [ 0 12]]\n",
      "\n",
      " [[24  1]\n",
      "  [ 4  9]]\n",
      "\n",
      " [[21  4]\n",
      "  [ 1 12]]]\n",
      "****************************************\n",
      "0.868421052631579\n",
      "****************************************\n",
      "              precision    recall  f1-score   support\n",
      "\n",
      "           0       1.00      1.00      1.00        12\n",
      "           1       0.90      0.69      0.78        13\n",
      "           2       0.75      0.92      0.83        13\n",
      "\n",
      "    accuracy                           0.87        38\n",
      "   macro avg       0.88      0.87      0.87        38\n",
      "weighted avg       0.88      0.87      0.87        38\n",
      "\n"
     ]
    }
   ],
   "source": [
    "y_pred_test_Lo = Logis.predict(x_test)\n",
    "\n",
    "cnf = confusion_matrix(y_test, y_pred_test_Lo)\n",
    "print(cnf)\n",
    "print('**'*20)\n",
    "\n",
    "mul_cnf = multilabel_confusion_matrix(y_test, y_pred_test_Lo)\n",
    "print(mul_cnf)\n",
    "print('**'*20)\n",
    "\n",
    "acc = accuracy_score(y_test, y_pred_test_Lo)\n",
    "print(acc)\n",
    "print('**'*20)\n",
    "\n",
    "clf_rep = classification_report(y_test, y_pred_test_Lo)\n",
    "print(clf_rep)"
   ]
  },
  {
   "cell_type": "code",
   "execution_count": 131,
   "id": "204f0f21",
   "metadata": {},
   "outputs": [
    {
     "data": {
      "text/plain": [
       "0.868421052631579"
      ]
     },
     "execution_count": 131,
     "metadata": {},
     "output_type": "execute_result"
    }
   ],
   "source": [
    "Logis.score(x_test,y_test)"
   ]
  },
  {
   "cell_type": "code",
   "execution_count": null,
   "id": "d9f48628",
   "metadata": {},
   "outputs": [],
   "source": [
    "#Linear 0.94, Logistic 0.86 >> Testing"
   ]
  }
 ],
 "metadata": {
  "kernelspec": {
   "display_name": "Python 3 (ipykernel)",
   "language": "python",
   "name": "python3"
  },
  "language_info": {
   "codemirror_mode": {
    "name": "ipython",
    "version": 3
   },
   "file_extension": ".py",
   "mimetype": "text/x-python",
   "name": "python",
   "nbconvert_exporter": "python",
   "pygments_lexer": "ipython3",
   "version": "3.9.7"
  }
 },
 "nbformat": 4,
 "nbformat_minor": 5
}
